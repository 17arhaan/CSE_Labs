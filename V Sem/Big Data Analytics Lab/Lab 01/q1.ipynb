{
 "cells": [
  {
   "cell_type": "code",
   "execution_count": 1,
   "metadata": {},
   "outputs": [
    {
     "name": "stderr",
     "output_type": "stream",
     "text": [
      "Setting default log level to \"WARN\".\n",
      "To adjust logging level use sc.setLogLevel(newLevel). For SparkR, use setLogLevel(newLevel).\n",
      "24/07/31 10:20:08 WARN NativeCodeLoader: Unable to load native-hadoop library for your platform... using builtin-java classes where applicable\n",
      "                                                                                \r"
     ]
    },
    {
     "name": "stdout",
     "output_type": "stream",
     "text": [
      "Original Numbers: [1, 6, 3, 8, 5]\n",
      "Squared Numbers: [1, 36, 9, 64, 25]\n"
     ]
    }
   ],
   "source": [
    "from pyspark.sql import SparkSession\n",
    "\n",
    "spark = SparkSession.builder.appName(\"SquareIntegers\").getOrCreate()\n",
    "\n",
    "user_input = input(\"Enter a set of integers separated by spaces: \")\n",
    "integers = list(map(int, user_input.split()))\n",
    "\n",
    "rdd = spark.sparkContext.parallelize(integers)\n",
    "\n",
    "def square(x):\n",
    "    return x * x\n",
    "\n",
    "squared_rdd = rdd.map(square)\n",
    "squared_numbers = squared_rdd.collect()\n",
    "\n",
    "print(\"Original Numbers:\", integers)\n",
    "print(\"Squared Numbers:\", squared_numbers)\n",
    "\n",
    "spark.stop()\n"
   ]
  }
 ],
 "metadata": {
  "kernelspec": {
   "display_name": "Python 3",
   "language": "python",
   "name": "python3"
  },
  "language_info": {
   "codemirror_mode": {
    "name": "ipython",
    "version": 3
   },
   "file_extension": ".py",
   "mimetype": "text/x-python",
   "name": "python",
   "nbconvert_exporter": "python",
   "pygments_lexer": "ipython3",
   "version": "3.10.12"
  }
 },
 "nbformat": 4,
 "nbformat_minor": 2
}
