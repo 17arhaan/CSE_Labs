{
 "cells": [
  {
   "cell_type": "code",
   "execution_count": 15,
   "metadata": {},
   "outputs": [
    {
     "name": "stdout",
     "output_type": "stream",
     "text": [
      "Original Numbers: [1, 7, 4, 8, 3, 0]\n",
      "Average Number: 3.8333333333333335\n"
     ]
    }
   ],
   "source": [
    "from pyspark.sql import SparkSession\n",
    "\n",
    "spark = SparkSession.builder.appName(\"CalculateAverage\").getOrCreate()\n",
    "\n",
    "user_input = input(\"Enter a set of integers separated by spaces: \")\n",
    "integers = list(map(int, user_input.split()))\n",
    "\n",
    "rdd = spark.sparkContext.parallelize(integers)\n",
    "\n",
    "total_sum = rdd.sum()\n",
    "count = rdd.count()\n",
    "average = total_sum / count if count > 0 else float('nan')\n",
    "\n",
    "print(\"Original Numbers:\", integers)\n",
    "print(\"Average Number:\", average)\n",
    "\n",
    "spark.stop()\n"
   ]
  }
 ],
 "metadata": {
  "kernelspec": {
   "display_name": "Python 3",
   "language": "python",
   "name": "python3"
  },
  "language_info": {
   "codemirror_mode": {
    "name": "ipython",
    "version": 3
   },
   "file_extension": ".py",
   "mimetype": "text/x-python",
   "name": "python",
   "nbconvert_exporter": "python",
   "pygments_lexer": "ipython3",
   "version": "3.10.12"
  }
 },
 "nbformat": 4,
 "nbformat_minor": 2
}
