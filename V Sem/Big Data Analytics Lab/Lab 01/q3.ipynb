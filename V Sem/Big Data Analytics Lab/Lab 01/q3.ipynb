{
 "cells": [
  {
   "cell_type": "code",
   "execution_count": 7,
   "metadata": {},
   "outputs": [
    {
     "name": "stdout",
     "output_type": "stream",
     "text": [
      "Original Numbers: [1, 2, 4, 8, 5]\n",
      "Average Number: 4.0\n"
     ]
    }
   ],
   "source": [
    "from pyspark.sql import SparkSession\n",
    "\n",
    "spark = SparkSession.builder.appName(\"CalculateAverage\").getOrCreate()\n",
    "\n",
    "n = int(input(\"Enter the number of integers: \"))\n",
    "user_input = input(f\"Enter {n} integers separated by spaces: \")\n",
    "integers = list(map(int, user_input.split()))\n",
    "\n",
    "if len(integers) != n:\n",
    "    print(f\"Error: Expected {n} integers, but got {len(integers)}.\")\n",
    "    spark.stop()\n",
    "    exit()\n",
    "\n",
    "rdd = spark.sparkContext.parallelize(integers)\n",
    "total_sum = rdd.sum()\n",
    "count = rdd.count()\n",
    "average = total_sum / count\n",
    "\n",
    "print(\"Original Numbers:\", integers)\n",
    "print(\"Average Number:\", average)\n",
    "\n",
    "spark.stop()\n",
    "\n"
   ]
  }
 ],
 "metadata": {
  "kernelspec": {
   "display_name": "Python 3",
   "language": "python",
   "name": "python3"
  },
  "language_info": {
   "codemirror_mode": {
    "name": "ipython",
    "version": 3
   },
   "file_extension": ".py",
   "mimetype": "text/x-python",
   "name": "python",
   "nbconvert_exporter": "python",
   "pygments_lexer": "ipython3",
   "version": "3.10.12"
  }
 },
 "nbformat": 4,
 "nbformat_minor": 2
}
