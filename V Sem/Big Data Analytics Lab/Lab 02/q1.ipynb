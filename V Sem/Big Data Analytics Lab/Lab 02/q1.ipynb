{
 "cells": [
  {
   "cell_type": "code",
   "execution_count": 9,
   "metadata": {},
   "outputs": [],
   "source": [
    "from pyspark.sql import SparkSession\n",
    "from pyspark.sql.functions import col, when"
   ]
  },
  {
   "cell_type": "code",
   "execution_count": 10,
   "metadata": {},
   "outputs": [],
   "source": [
    "spark = SparkSession.builder \\\n",
    "    .appName(\"PySpark Transformations Example\") \\\n",
    "    .getOrCreate()\n"
   ]
  },
  {
   "cell_type": "code",
   "execution_count": 11,
   "metadata": {},
   "outputs": [],
   "source": [
    "data = [\n",
    "    (1, \"Alice\", 34),\n",
    "    (2, \"Bob\", 45),\n",
    "    (3, \"Cathy\", 29),\n",
    "    (4, \"David\", 31)\n",
    "]\n",
    "\n",
    "columns = [\"id\", \"name\", \"age\"]"
   ]
  },
  {
   "cell_type": "code",
   "execution_count": 12,
   "metadata": {},
   "outputs": [
    {
     "name": "stdout",
     "output_type": "stream",
     "text": [
      "Original DataFrame:\n",
      "+---+-----+---+\n",
      "| id| name|age|\n",
      "+---+-----+---+\n",
      "|  1|Alice| 34|\n",
      "|  2|  Bob| 45|\n",
      "|  3|Cathy| 29|\n",
      "|  4|David| 31|\n",
      "+---+-----+---+\n",
      "\n",
      "Transformed DataFrame:\n",
      "+---+-----+---+---------+\n",
      "| id| name|age|age_group|\n",
      "+---+-----+---+---------+\n",
      "|  1|Alice| 34|   Junior|\n",
      "|  2|  Bob| 45|   Senior|\n",
      "|  4|David| 31|   Junior|\n",
      "+---+-----+---+---------+\n",
      "\n"
     ]
    }
   ],
   "source": [
    "df = spark.createDataFrame(data, schema=columns)\n",
    "\n",
    "print(\"Original DataFrame:\")\n",
    "df.show()\n",
    "\n",
    "filtered_df = df.filter(col(\"age\") > 30)\n",
    "\n",
    "transformed_df = filtered_df.withColumn(\n",
    "    \"age_group\",\n",
    "    when(col(\"age\") > 40, \"Senior\").otherwise(\"Junior\")\n",
    ")\n",
    "\n",
    "print(\"Transformed DataFrame:\")\n",
    "transformed_df.show()\n"
   ]
  },
  {
   "cell_type": "code",
   "execution_count": 13,
   "metadata": {},
   "outputs": [],
   "source": [
    "\n",
    "spark.stop()"
   ]
  }
 ],
 "metadata": {
  "kernelspec": {
   "display_name": "Python 3",
   "language": "python",
   "name": "python3"
  },
  "language_info": {
   "codemirror_mode": {
    "name": "ipython",
    "version": 3
   },
   "file_extension": ".py",
   "mimetype": "text/x-python",
   "name": "python",
   "nbconvert_exporter": "python",
   "pygments_lexer": "ipython3",
   "version": "3.10.12"
  }
 },
 "nbformat": 4,
 "nbformat_minor": 2
}
