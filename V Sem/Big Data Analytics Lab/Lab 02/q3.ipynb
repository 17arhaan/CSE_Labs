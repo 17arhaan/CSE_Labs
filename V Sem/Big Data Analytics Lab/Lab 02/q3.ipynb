{
 "cells": [
  {
   "cell_type": "code",
   "execution_count": 1,
   "metadata": {},
   "outputs": [
    {
     "name": "stderr",
     "output_type": "stream",
     "text": [
      "Setting default log level to \"WARN\".\n",
      "To adjust logging level use sc.setLogLevel(newLevel). For SparkR, use setLogLevel(newLevel).\n",
      "24/08/07 09:30:03 WARN NativeCodeLoader: Unable to load native-hadoop library for your platform... using builtin-java classes where applicable\n",
      "24/08/07 09:30:03 WARN Utils: Service 'SparkUI' could not bind on port 4040. Attempting port 4041.\n"
     ]
    },
    {
     "name": "stdout",
     "output_type": "stream",
     "text": [
      "DataFrame Content:\n",
      "+---+-----+---+\n",
      "| id| name|age|\n",
      "+---+-----+---+\n",
      "|  1|Alice| 34|\n",
      "|  2|  Bob| 45|\n",
      "|  3|Cathy| 29|\n",
      "|  4|David| 31|\n",
      "+---+-----+---+\n",
      "\n",
      "Sum of ages: 139\n",
      "Average age: 34.75\n"
     ]
    }
   ],
   "source": [
    "from pyspark.sql import SparkSession\n",
    "from pyspark.sql.functions import sum as pyspark_sum, avg as pyspark_avg\n",
    "\n",
    "spark = SparkSession.builder \\\n",
    "    .appName(\"PySpark Aggregations Example\") \\\n",
    "    .getOrCreate()\n",
    "\n",
    "data = [\n",
    "    (1, \"Alice\", 34),\n",
    "    (2, \"Bob\", 45),\n",
    "    (3, \"Cathy\", 29),\n",
    "    (4, \"David\", 31)\n",
    "]\n",
    "\n",
    "columns = [\"id\", \"name\", \"age\"]\n",
    "\n",
    "df = spark.createDataFrame(data, schema=columns)\n",
    "\n",
    "print(\"DataFrame Content:\")\n",
    "df.show()\n",
    "\n",
    "age_sum = df.agg(pyspark_sum(\"age\").alias(\"total_age\")).collect()[0][\"total_age\"]\n",
    "\n",
    "age_avg = df.agg(pyspark_avg(\"age\").alias(\"average_age\")).collect()[0][\"average_age\"]\n",
    "\n",
    "print(f\"Sum of ages: {age_sum}\")\n",
    "print(f\"Average age: {age_avg}\")\n"
   ]
  },
  {
   "cell_type": "code",
   "execution_count": 2,
   "metadata": {},
   "outputs": [],
   "source": [
    "spark.stop()"
   ]
  }
 ],
 "metadata": {
  "kernelspec": {
   "display_name": "Python 3",
   "language": "python",
   "name": "python3"
  },
  "language_info": {
   "codemirror_mode": {
    "name": "ipython",
    "version": 3
   },
   "file_extension": ".py",
   "mimetype": "text/x-python",
   "name": "python",
   "nbconvert_exporter": "python",
   "pygments_lexer": "ipython3",
   "version": "3.10.12"
  }
 },
 "nbformat": 4,
 "nbformat_minor": 2
}
