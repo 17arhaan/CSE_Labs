{
 "cells": [
  {
   "cell_type": "code",
   "execution_count": 1,
   "metadata": {},
   "outputs": [],
   "source": [
    "from pyspark.sql import SparkSession\n"
   ]
  },
  {
   "cell_type": "code",
   "execution_count": 5,
   "metadata": {},
   "outputs": [
    {
     "name": "stdout",
     "output_type": "stream",
     "text": [
      "WordCount Results:\n",
      "name: 1\n",
      "is: 1\n",
      "hi: 1\n",
      "my: 1\n",
      "arhaan.: 1\n"
     ]
    }
   ],
   "source": [
    "spark = SparkSession.builder \\\n",
    "    .appName(\"PySpark WordCount Example\") \\\n",
    "    .getOrCreate()\n",
    "\n",
    "text_file = spark.sparkContext.textFile(\"q5.txt\")\n",
    "\n",
    "words = text_file.flatMap(lambda line: line.split())\n",
    "\n",
    "word_counts = words.map(lambda word: (word, 1))\n",
    "\n",
    "word_counts = word_counts.reduceByKey(lambda a, b: a + b)\n",
    "\n",
    "results = word_counts.collect()\n",
    "\n",
    "print(\"WordCount Results:\")\n",
    "for word, count in results:\n",
    "    print(f\"{word}: {count}\")\n",
    "\n",
    "spark.stop()"
   ]
  }
 ],
 "metadata": {
  "kernelspec": {
   "display_name": "Python 3",
   "language": "python",
   "name": "python3"
  },
  "language_info": {
   "codemirror_mode": {
    "name": "ipython",
    "version": 3
   },
   "file_extension": ".py",
   "mimetype": "text/x-python",
   "name": "python",
   "nbconvert_exporter": "python",
   "pygments_lexer": "ipython3",
   "version": "3.10.12"
  }
 },
 "nbformat": 4,
 "nbformat_minor": 2
}
