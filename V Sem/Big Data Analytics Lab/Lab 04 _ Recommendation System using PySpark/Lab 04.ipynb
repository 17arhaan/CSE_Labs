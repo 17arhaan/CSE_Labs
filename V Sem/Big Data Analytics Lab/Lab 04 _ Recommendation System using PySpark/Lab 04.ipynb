{
 "cells": [
  {
   "cell_type": "markdown",
   "metadata": {},
   "source": [
    "# Q1"
   ]
  },
  {
   "cell_type": "code",
   "execution_count": 1,
   "metadata": {},
   "outputs": [
    {
     "name": "stderr",
     "output_type": "stream",
     "text": [
      "Setting default log level to \"WARN\".\n",
      "To adjust logging level use sc.setLogLevel(newLevel). For SparkR, use setLogLevel(newLevel).\n",
      "24/08/21 10:38:56 WARN NativeCodeLoader: Unable to load native-hadoop library for your platform... using builtin-java classes where applicable\n"
     ]
    },
    {
     "name": "stdout",
     "output_type": "stream",
     "text": [
      "+-----+---------------+----------+---------+--------------------+-----------------+--------------------+--------------------+--------------------+--------------------+-----------------+--------------------+\n",
      "|Index|    Customer Id|First Name|Last Name|             Company|             City|             Country|             Phone 1|             Phone 2|               Email|Subscription Date|             Website|\n",
      "+-----+---------------+----------+---------+--------------------+-----------------+--------------------+--------------------+--------------------+--------------------+-----------------+--------------------+\n",
      "|    1|DD37Cf93aecA6Dc|    Sheryl|   Baxter|     Rasmussen Group|     East Leonard|               Chile|        229.077.5154|    397.884.0519x718|zunigavanessa@smi...|       2020-08-24|http://www.stephe...|\n",
      "|    2|1Ef7b82A4CAAD10|   Preston|   Lozano|         Vega-Gentry|East Jimmychester|            Djibouti|          5153435776|    686-620-1820x944|     vmata@colon.com|       2021-04-23|http://www.hobbs....|\n",
      "|    3|6F94879bDAfE5a6|       Roy|    Berry|       Murillo-Perry|    Isabelborough| Antigua and Barbuda|     +1-539-402-0259| (496)978-3969x58947| beckycarr@hogan.com|       2020-03-25|http://www.lawren...|\n",
      "|    4|5Cef8BFA16c5e3c|     Linda|    Olsen|Dominguez, Mcmill...|       Bensonview|  Dominican Republic|001-808-617-6467x...|     +1-813-324-8756|stanleyblackwell@...|       2020-06-02|http://www.good-l...|\n",
      "|    5|053d585Ab6b3159|    Joanna|   Bender|Martin, Lang and ...|   West Priscilla|Slovakia (Slovak ...|001-234-203-0635x...|001-199-446-3860x...|colinalvarado@mil...|       2021-04-17|https://goodwin-i...|\n",
      "+-----+---------------+----------+---------+--------------------+-----------------+--------------------+--------------------+--------------------+--------------------+-----------------+--------------------+\n",
      "only showing top 5 rows\n",
      "\n"
     ]
    }
   ],
   "source": [
    "from pyspark.sql import SparkSession\n",
    "\n",
    "spark = SparkSession.builder.appName(\"RecommendationSystem\").getOrCreate()\n",
    "data_path = './customers-100.csv'  \n",
    "df = spark.read.csv(data_path, header=True, inferSchema=True)\n",
    "\n",
    "df.show(5)"
   ]
  },
  {
   "cell_type": "markdown",
   "metadata": {},
   "source": [
    "# Q2"
   ]
  },
  {
   "cell_type": "code",
   "execution_count": 4,
   "metadata": {},
   "outputs": [],
   "source": [
    "from pyspark.sql.functions import col, lit\n",
    "from pyspark.sql import functions as F\n",
    "\n",
    "interaction_data = df.select(\n",
    "    col(\"Customer Id\").alias(\"userId\"),\n",
    "    col(\"Website\").alias(\"itemId\"),\n",
    "    (F.rand() * 5.0).alias(\"rating\") \n",
    ")\n",
    "(training_data, test_data) = interaction_data.randomSplit([0.8, 0.2])\n"
   ]
  },
  {
   "cell_type": "markdown",
   "metadata": {},
   "source": [
    "# Q3\n"
   ]
  },
  {
   "cell_type": "code",
   "execution_count": 9,
   "metadata": {},
   "outputs": [
    {
     "name": "stdout",
     "output_type": "stream",
     "text": [
      "The predictions DataFrame is empty. Check the training and prediction steps.\n"
     ]
    }
   ],
   "source": [
    "from pyspark.sql import SparkSession\n",
    "from pyspark.ml.recommendation import ALS\n",
    "from pyspark.ml.evaluation import RegressionEvaluator\n",
    "from pyspark.ml.feature import StringIndexer\n",
    "from pyspark.sql.functions import col, lit\n",
    "from pyspark.sql import functions as F\n",
    "\n",
    "# Initialize Spark session\n",
    "spark = SparkSession.builder \\\n",
    "    .appName(\"RecommendationSystem\") \\\n",
    "    .getOrCreate()\n",
    "\n",
    "# Load dataset\n",
    "file_path = './customers-100.csv'  \n",
    "df = spark.read.csv(file_path, header=True, inferSchema=True)\n",
    "\n",
    "# Generate interaction data (dummy example)\n",
    "interaction_data = df.select(\n",
    "    col(\"Customer Id\").alias(\"userId\"),\n",
    "    col(\"Website\").alias(\"itemId\"),\n",
    "    (F.rand() * 5.0).alias(\"rating\")  # Replace with actual ratings in practice\n",
    ")\n",
    "\n",
    "# Index userId and itemId\n",
    "user_indexer = StringIndexer(inputCol=\"userId\", outputCol=\"userIndex\")\n",
    "item_indexer = StringIndexer(inputCol=\"itemId\", outputCol=\"itemIndex\")\n",
    "\n",
    "interaction_data = user_indexer.fit(interaction_data).transform(interaction_data)\n",
    "interaction_data = item_indexer.fit(interaction_data).transform(interaction_data)\n",
    "\n",
    "# Prepare final data for ALS\n",
    "final_data = interaction_data.select(\n",
    "    col(\"userIndex\").alias(\"userId\"),\n",
    "    col(\"itemIndex\").alias(\"itemId\"),\n",
    "    col(\"rating\")\n",
    ")\n",
    "\n",
    "# Split data into training and test sets\n",
    "(training_data, test_data) = final_data.randomSplit([0.8, 0.2])\n",
    "\n",
    "# Initialize ALS model\n",
    "als = ALS(\n",
    "    userCol=\"userId\",\n",
    "    itemCol=\"itemId\",\n",
    "    ratingCol=\"rating\",\n",
    "    rank=10,\n",
    "    maxIter=10,\n",
    "    regParam=0.1,\n",
    "    coldStartStrategy=\"drop\"\n",
    ")\n",
    "\n",
    "# Train the ALS model\n",
    "model = als.fit(training_data)\n",
    "\n",
    "# Make predictions on the test set\n",
    "predictions = model.transform(test_data)\n",
    "\n",
    "# Check for non-empty DataFrames\n",
    "if predictions.count() == 0:\n",
    "    print(\"The predictions DataFrame is empty. Check the training and prediction steps.\")\n",
    "else:\n",
    "    # Show some predictions\n",
    "    predictions.show()\n",
    "\n",
    "    # Print schema of predictions\n",
    "    predictions.printSchema()\n",
    "\n",
    "    # Evaluate model performance\n",
    "    evaluator = RegressionEvaluator(\n",
    "        metricName=\"rmse\",\n",
    "        labelCol=\"rating\",\n",
    "        predictionCol=\"prediction\"\n",
    "    )\n",
    "\n",
    "    # Calculate RMSE\n",
    "    rmse = evaluator.evaluate(predictions)\n",
    "    print(f\"Root Mean Squared Error (RMSE): {rmse}\")\n",
    "\n",
    "# Stop Spark session\n",
    "spark.stop()\n"
   ]
  }
 ],
 "metadata": {
  "kernelspec": {
   "display_name": "Python 3",
   "language": "python",
   "name": "python3"
  },
  "language_info": {
   "codemirror_mode": {
    "name": "ipython",
    "version": 3
   },
   "file_extension": ".py",
   "mimetype": "text/x-python",
   "name": "python",
   "nbconvert_exporter": "python",
   "pygments_lexer": "ipython3",
   "version": "3.10.12"
  }
 },
 "nbformat": 4,
 "nbformat_minor": 2
}
